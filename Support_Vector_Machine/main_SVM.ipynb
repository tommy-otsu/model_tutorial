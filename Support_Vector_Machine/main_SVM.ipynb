{
 "cells": [
  {
   "cell_type": "code",
   "execution_count": 12,
   "metadata": {},
   "outputs": [
    {
     "name": "stdout",
     "output_type": "stream",
     "text": [
      "96.66666666666667 %\n"
     ]
    }
   ],
   "source": [
    "\n",
    "#import\n",
    "import numpy as np\n",
    "import pandas as pd\n",
    "import matplotlib\n",
    "import matplotlib.pyplot as plt\n",
    "import warnings\n",
    "import csv\n",
    "\n",
    "warnings.filterwarnings('ignore')\n",
    "\n",
    "from sklearn.datasets import load_iris\n",
    "from sklearn.model_selection import train_test_split\n",
    "from sklearn.svm import LinearSVC\n",
    "from sklearn.svm import SVC\n",
    "from sklearn.metrics import accuracy_score\n",
    "\n",
    "\n",
    "#データのロードと訓練-テストデータへの分割\n",
    "data_set = load_iris() \n",
    "df = pd.DataFrame(data_set.data, columns=data_set.feature_names)\n",
    "y  = data_set.target\n",
    "x = df \n",
    "\n",
    "\n",
    "#データの分割\n",
    "x_train, x_test, y_train, y_test = train_test_split(x, y, test_size=0.2, train_size=0.8, shuffle=True)\n",
    "labels = ['x_train','x_test','y_train','y_test']\n",
    "\n",
    "x_train.to_csv(\"x_train.csv\")\n",
    "x_test.to_csv(\"x_test.csv\")\n",
    "np.savetxt('y_train.csv',y_train,delimiter=',')\n",
    "np.savetxt('y_test.csv',y_test,delimiter=',')\n",
    "# y_train.to_csv(\"y_train.csv\")\n",
    "# y_test.to_csv(\"y_test.csv\")\n",
    "\n",
    "# モデルに訓練用データを与えて学習させる\n",
    "clf = SVC()\n",
    "clf.fit(x_train, y_train)\n",
    " \n",
    "# テストデータを評価する\n",
    "y_pred = clf.predict(x_test)\n",
    "ss = accuracy_score(y_test, y_pred)\n",
    "print(ss*100,'%')\n",
    "\n",
    "\n",
    "\n"
   ]
  },
  {
   "cell_type": "code",
   "execution_count": null,
   "metadata": {},
   "outputs": [],
   "source": []
  }
 ],
 "metadata": {
  "kernelspec": {
   "display_name": "Python 3",
   "language": "python",
   "name": "python3"
  },
  "language_info": {
   "codemirror_mode": {
    "name": "ipython",
    "version": 3
   },
   "file_extension": ".py",
   "mimetype": "text/x-python",
   "name": "python",
   "nbconvert_exporter": "python",
   "pygments_lexer": "ipython3",
   "version": "3.8.3"
  }
 },
 "nbformat": 4,
 "nbformat_minor": 4
}
