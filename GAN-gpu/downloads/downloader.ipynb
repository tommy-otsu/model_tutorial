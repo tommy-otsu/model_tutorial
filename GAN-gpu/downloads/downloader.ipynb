{
 "cells": [
  {
   "cell_type": "code",
   "execution_count": null,
   "metadata": {},
   "outputs": [],
   "source": [
    "from google_images_download import google_images_download\n",
    "\n",
    "response = google_images_download.googleimagesdownload()\n",
    "\n",
    "arguments = {\"keywords\":\"ピカチュウ,Pikachu,ポケモン,Pokemon\", \n",
    "            \"limit\":1000,\n",
    "            \"chromedriver\":\"C:\\Program Files\\chromedriver.exe\",\n",
    "             \"format\":\"jpg\"}\n",
    "\n",
    "response.download(arguments)"
   ]
  }
 ],
 "metadata": {
  "interpreter": {
   "hash": "78a930597a8eae2399ceeb6fb254ce1448b1db5d13bceb34ad9aef89aa8f937d"
  },
  "kernelspec": {
   "display_name": "Python 3.9.5 64-bit",
   "name": "python3"
  },
  "language_info": {
   "name": "python",
   "version": "3.9.5"
  },
  "orig_nbformat": 4
 },
 "nbformat": 4,
 "nbformat_minor": 2
}
