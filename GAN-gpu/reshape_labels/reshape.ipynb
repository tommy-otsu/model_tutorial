{
 "cells": [
  {
   "cell_type": "code",
   "execution_count": null,
   "metadata": {},
   "outputs": [],
   "source": [
    "import os\n",
    "import glob\n",
    "from PIL import Image, ImageOps\n",
    "\n",
    "input_dirname = os.path.join('..', 'downloads', '*', '*')\n",
    "output_dirname = os.path.join('..', 'dataset', 'reshaped')\n",
    "\n",
    "files = glob.glob(input_dirname)\n",
    "reshaped_size = (256, 256)\n",
    "print(input_dirname)\n",
    "test = os.path.exists(input_dirname)\n",
    "print(test)\n",
    "\n",
    "for i, file in enumerate(files):\n",
    "    index = i + 1\n",
    "    try:\n",
    "        image = Image.open(file)\n",
    "    except IOError:\n",
    "        pass\n",
    "    reshaped = ImageOps.fit(image, reshaped_size, Image.NEAREST)\n",
    "    converted = reshaped.convert('RGB')\n",
    "    converted.save(os.path.join(output_dirname, f'{index}.jpg'))\n",
    "    print(f'{index}: {file} was saved.')"
   ]
  }
 ],
 "metadata": {
  "interpreter": {
   "hash": "78a930597a8eae2399ceeb6fb254ce1448b1db5d13bceb34ad9aef89aa8f937d"
  },
  "kernelspec": {
   "display_name": "Python 3.9.5 64-bit",
   "name": "python3"
  },
  "language_info": {
   "name": "python",
   "version": "3.9.5"
  },
  "orig_nbformat": 4
 },
 "nbformat": 4,
 "nbformat_minor": 2
}
